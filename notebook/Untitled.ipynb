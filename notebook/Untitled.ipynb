{
 "cells": [
  {
   "cell_type": "code",
   "execution_count": 1,
   "metadata": {},
   "outputs": [],
   "source": [
    "from selenium import webdriver\n",
    "from fake_useragent import UserAgent\n",
    "from selenium.webdriver.firefox.options import Options\n",
    "from time import sleep"
   ]
  },
  {
   "cell_type": "code",
   "execution_count": 8,
   "metadata": {},
   "outputs": [],
   "source": [
    "# function to estimate the number of request\n",
    "# compute number of proxies needed\n",
    "\n",
    "# proxy url \"https://www.sslproxies.org/\"\n",
    "\n",
    "profile = webdriver.FirefoxProfile()\n",
    "profile.set_preference(\"general.useragent.override\", useragent.random)\n",
    "driver = webdriver.Firefox(firefox_profile=profile, executable_path='../geckodriver', options=options)\n",
    "driver.get(\"http://www.whatsmyua.info/\")\n",
    "driver.quit()"
   ]
  },
  {
   "cell_type": "code",
   "execution_count": 2,
   "metadata": {},
   "outputs": [],
   "source": [
    "useragent = UserAgent()\n",
    "options = Options()\n",
    "options.headless = True"
   ]
  },
  {
   "cell_type": "code",
   "execution_count": 3,
   "metadata": {},
   "outputs": [],
   "source": [
    "# collect the championship tab\n",
    "def collect_home_page(url):\n",
    "    \"\"\"\n",
    "    Collect the links to access at each country.\n",
    "    \"\"\"\n",
    "    driver = webdriver.Firefox(executable_path='../geckodriver')\n",
    "    driver.get(url)\n",
    "    l = driver.find_element_by_id(\"popular-tournaments-list\").find_elements_by_class_name(\"hover-target\")\n",
    "    links = [e.find_element_by_tag_name('a').get_attribute('href') for e in l]\n",
    "    driver.quit()\n",
    "    return links"
   ]
  },
  {
   "cell_type": "code",
   "execution_count": 4,
   "metadata": {},
   "outputs": [],
   "source": [
    "url = \"https://www.whoscored.com/\""
   ]
  },
  {
   "cell_type": "code",
   "execution_count": 5,
   "metadata": {},
   "outputs": [],
   "source": [
    "links = collect_home_page(url)"
   ]
  },
  {
   "cell_type": "code",
   "execution_count": 6,
   "metadata": {},
   "outputs": [],
   "source": [
    "france_link = links[4]"
   ]
  },
  {
   "cell_type": "code",
   "execution_count": 79,
   "metadata": {},
   "outputs": [],
   "source": [
    "# collect the match of the current season\n",
    "def collect_country_match(url):\n",
    "    \"\"\"\n",
    "    Collect the matches for current season.\n",
    "    \"\"\"\n",
    "    driver = webdriver.Firefox(executable_path='../geckodriver')\n",
    "    driver.get(url)\n",
    "    remove_wall_ad(driver)\n",
    "    # return to the first match\n",
    "    driver.implicitly_wait(5)\n",
    "    today_date = driver.find_element_by_id(\"date-config-toggle-button\").text\n",
    "    init_calendar(driver)\n",
    "    links_l = []\n",
    "    cur_date = ''\n",
    "    while cur_date != today_date:\n",
    "        # collect the match of the week \n",
    "        links, cur_date = collect_match(driver)\n",
    "        links_l.append(links)\n",
    "    driver.quit()\n",
    "    return [item for sublist in links for item in sublist]"
   ]
  },
  {
   "cell_type": "code",
   "execution_count": 77,
   "metadata": {},
   "outputs": [],
   "source": [
    "def init_calendar(driver):\n",
    "    \"\"\"\n",
    "    put the calendar to the begin\n",
    "    \"\"\" \n",
    "    driver.find_element_by_id(\"date-config-toggle-button\").click()\n",
    "    driver.implicitly_wait(5) # seconds\n",
    "    m = driver.find_element_by_class_name(\"months\")\n",
    "    aug = m.find_elements_by_tag_name('td')[7]\n",
    "    aug.click()\n",
    "    d = driver.find_element_by_class_name(\"days\")\n",
    "    ff = d.find_elements_by_tag_name('td')[8]\n",
    "    ff.click()\n",
    "    driver.find_element_by_id(\"date-config-close-button\").click()\n",
    "    \n",
    "def remove_wall_ad(driver):\n",
    "    \"\"\"\n",
    "    Look its names means.\n",
    "    \"\"\"\n",
    "    sleep(5)\n",
    "    try:\n",
    "        driver.find_elements_by_class_name(\"qc-cmp-button\")[1].click()\n",
    "    except:\n",
    "        pass\n",
    "    \n",
    "def collect_match(driver):\n",
    "    \"\"\"\n",
    "    Collect the match for one week.\n",
    "    \"\"\"\n",
    "    driver.implicitly_wait(4)\n",
    "    l = driver.find_element_by_id(\"tournament-fixture\").find_elements_by_class_name(\"result\")\n",
    "    links = [e.find_element_by_tag_name('a').get_attribute('href') for e in l]\n",
    "    driver.find_element_by_class_name(\"next\").click()\n",
    "    cur_d = driver.find_element_by_id(\"date-config-toggle-button\").text\n",
    "    return links, cur_d"
   ]
  },
  {
   "cell_type": "code",
   "execution_count": null,
   "metadata": {},
   "outputs": [],
   "source": [
    "match_l = collect_country_match(france_link)"
   ]
  },
  {
   "cell_type": "code",
   "execution_count": 83,
   "metadata": {},
   "outputs": [],
   "source": [
    "url = \"https://www.whoscored.com/Matches/1376556/Live/France-Ligue-1-2019-2020-Monaco-Lyon\""
   ]
  },
  {
   "cell_type": "code",
   "execution_count": null,
   "metadata": {},
   "outputs": [],
   "source": [
    "def match_data(url):\n",
    "    # header\n",
    "    # div id=\"match-header\"\n",
    "        # find dt and dd .text\n",
    "    # match centre: summary\n",
    "        # div id=\"match-centre-header\"\n",
    "            # div class=\"team-info\"\n",
    "                # class=\"team-rating\", \"manager-name\", \"formation\"\n",
    "        # id=\"stadium\"\n",
    "            # div class=\"match-info\"\n",
    "                # span class=\"venue\" \"attendance\" \"referee\" .title\n",
    "        # div id=\"match-centre-stats\" -> (To see in detailed)\n",
    "        \n",
    "    # change the windows -> match commentary\n",
    "        # while(blabla) -> div class=\"page-navigation\" -> data-page=\"next-page\".click\n",
    "        # until data-page-name is \"last-page\"\n",
    "            # ul class=\"commentary-items\"\n",
    "                # li class=\"commentary-item\" -> data-field, data-player-id, \n",
    "                # ...data-team-id, data-minute(sec), \n",
    "                    # span class=\"commentary-text\"\n",
    "    \n",
    "    return "
   ]
  }
 ],
 "metadata": {
  "kernelspec": {
   "display_name": "Python 3",
   "language": "python",
   "name": "python3"
  },
  "language_info": {
   "codemirror_mode": {
    "name": "ipython",
    "version": 3
   },
   "file_extension": ".py",
   "mimetype": "text/x-python",
   "name": "python",
   "nbconvert_exporter": "python",
   "pygments_lexer": "ipython3",
   "version": "3.7.3"
  }
 },
 "nbformat": 4,
 "nbformat_minor": 4
}
