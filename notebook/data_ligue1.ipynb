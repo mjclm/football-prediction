{
 "cells": [
  {
   "cell_type": "code",
   "execution_count": 3,
   "metadata": {},
   "outputs": [],
   "source": [
    "import pandas as pd\n",
    "from datetime import datetime\n",
    "import matplotlib.pyplot as plt\n",
    "import seaborn as sns\n",
    "sns.set(\"notebook\", font_scale=1.5, rc={\"lines.linewidth\": 2.5})\n",
    "import numpy as np\n",
    "%matplotlib inline"
   ]
  },
  {
   "cell_type": "code",
   "execution_count": 4,
   "metadata": {},
   "outputs": [],
   "source": [
    "usecols = ['Date', 'HomeTeam', 'AwayTeam', 'FTHG', 'FTAG', 'FTR', 'HTHG', 'HTAG', 'HTR', 'HS', 'AS', 'HST', 'AST', 'HF', 'AF', 'HC', 'AC', 'HY', 'AY', 'HR', 'AR']\n",
    "urls = ['https://www.football-data.co.uk/mmz4281/{}{}/F1.csv'.format(i,i+1) for i in range(15, 20)]"
   ]
  },
  {
   "cell_type": "code",
   "execution_count": 5,
   "metadata": {},
   "outputs": [],
   "source": [
    "def load_data_clean(urls, usecols, date_format = '%d%m%y'):\n",
    "    # load data\n",
    "    df = pd.concat((pd.read_csv(url, usecols=usecols) for url in urls), ignore_index=True).dropna()\n",
    "    # create the Date\n",
    "    date_converter = lambda x: ''.join([x.replace('/20', '').replace('/', '')[i:i+2] for i in range(0, len(x.replace('/20', '').replace('/', '')), 2)])\n",
    "    df['Date'] = pd.to_datetime(df.Date.apply(date_converter), format=date_format)\n",
    "    df['HomeTeam'], team_unique = df.HomeTeam.factorize()\n",
    "    df['AwayTeam'] = df.AwayTeam.apply(lambda x: list(team_unique).index(x))\n",
    "    return df, list(team_unique)"
   ]
  },
  {
   "cell_type": "code",
   "execution_count": 6,
   "metadata": {},
   "outputs": [],
   "source": [
    "df, teams = load_data_clean(urls, usecols)"
   ]
  },
  {
   "cell_type": "code",
   "execution_count": 7,
   "metadata": {},
   "outputs": [],
   "source": [
    "import difflib\n",
    "calendar = pd.read_csv('../data/calendrier_l1.csv', index_col=None).drop(columns=['Unnamed: 0', 'score', 'url'])\n",
    "pat = '(AS|Olympique|SCO|Stade|FC|RC)'\n",
    "calendar.team1 = calendar.team1.str.replace(pat, '').apply(lambda x: difflib.get_close_matches(x, teams, cutoff=0.1, n=1)[0] if x != 'LOSC' else 'Lille').apply(lambda x: teams.index(x))\n",
    "calendar.team2 = calendar.team2.str.replace(pat, '').apply(lambda x: difflib.get_close_matches(x, teams, cutoff=0.1, n=1)[0] if x != 'LOSC' else 'Lille').apply(lambda x: teams.index(x))"
   ]
  },
  {
   "cell_type": "markdown",
   "metadata": {},
   "source": [
    "## Column explanation\n",
    "\n",
    "|Column|Meaning|\n",
    "|--|--|\n",
    "|FTHG|Full Time Home Team Goals|\n",
    "|FTAG|Full Time Away Team Goals|\n",
    "|FTR |Full Time Result|\n",
    "|HTHG|Half Time Home Team Goals|\n",
    "|HTAG|Half Time Away Team Goals|\n",
    "|HTR |Half Time Result|\n",
    "|HS|Home Team Shots|\n",
    "|AS|Away Team Shots|\n",
    "|HST|Home Team Shots on Target|\n",
    "|AST|Away Team Shots on Target|\n",
    "|HF|Home Team Fouls Committed|\n",
    "|AF|Away Team Fouls Committed|\n",
    "|HC|Home Team Corners|\n",
    "|AC|Away Team Corners|\n",
    "|HY|Home Team Yellow Cards|\n",
    "|AY|Away Team Yellow Cards|\n",
    "|HR|Home Team Red Cards|\n",
    "|AR|Away Team Red Cards|"
   ]
  },
  {
   "cell_type": "markdown",
   "metadata": {},
   "source": [
    "## DATA PREP"
   ]
  },
  {
   "cell_type": "code",
   "execution_count": 8,
   "metadata": {},
   "outputs": [],
   "source": [
    "def trfrm_dat(df, var):\n",
    "    df[var] = np.where(df['Team'] == df['HomeTeam'],\n",
    "                                     df['H{}'.format(var)],\n",
    "                                     df['A{}'.format(var)])\n",
    "    df['{}_Opp'.format(var)] = np.where(df['Team'] != df['HomeTeam'],\n",
    "                                     df['H{}'.format(var)],\n",
    "                                     df['A{}'.format(var)])\n",
    "    return df \n",
    "\n",
    "def data_by_team(df, k = 5):\n",
    "    # copy dataset to avoid to write on;\n",
    "    df_copy = df.copy(); \n",
    "    \n",
    "    # unpivot data\n",
    "    df_copy['H'] = df_copy['HomeTeam']\n",
    "    df_copy['A'] = df_copy['AwayTeam']\n",
    "    cols_to_keep = ['Date', 'HomeTeam', 'AwayTeam', 'FTHG', 'FTAG', 'FTR', 'HTHG', 'HTAG', 'HTR', \n",
    "                    'HS', 'AS', 'HST', 'AST', 'HF', 'AF', 'HC', 'AC', 'HY', 'AY', 'HR', 'AR']\n",
    "\n",
    "    team_results = pd.melt(\n",
    "        df_copy, \n",
    "        id_vars=cols_to_keep, \n",
    "        value_vars=['H', 'A'],\n",
    "        var_name='Home/Away',\n",
    "        value_name='Team')\n",
    "    \n",
    "    team_results['Opponent'] = np.where(team_results['Team'] == team_results['HomeTeam'],\n",
    "                                        team_results['AwayTeam'],\n",
    "                                        team_results['HomeTeam'])\n",
    "\n",
    "    team_results['FTG'] = np.where(team_results['Team'] == team_results['HomeTeam'],\n",
    "                                     team_results['FTHG'],\n",
    "                                     team_results['FTAG'])\n",
    "    team_results['FTG_Opp'] = np.where(team_results['Team'] != team_results['HomeTeam'],\n",
    "                                         team_results['FTHG'],\n",
    "                                         team_results['FTAG'])\n",
    "    \n",
    "    col = ['S', 'ST', 'F', 'C', 'Y', 'R']\n",
    "    for var in col:    \n",
    "        trfrm_dat(team_results, var)\n",
    "        \n",
    "    team_results['final_result'] = team_results.apply(lambda x: 'D' if x['FTR'] == 'D' else 'W' if x['Home/Away'] == x['FTR'] else 'L', axis=1)\n",
    "    \n",
    "    col_todrop = ['HomeTeam', 'AwayTeam', 'FTHG', 'FTAG', 'FTR', 'HTHG', 'HTAG', 'HTR', 'HS', 'AS', 'HST', 'AST', 'HF', 'AF', 'HC', 'AC', 'HY', 'AY', 'HR', 'AR']\n",
    "    team_results.drop(columns=col_todrop, inplace=True)\n",
    "    df_copy2 = team_results.copy()\n",
    "    \n",
    "    # create new variables\n",
    "    col_to_shift = list(df_copy2.columns[4:])\n",
    "    for sort_by in ['Team', 'Opponent']:\n",
    "        df_copy2 = df_copy2.sort_values(by=[sort_by, 'Date'])\n",
    "        for var in col_to_shift:\n",
    "            for i in range(1, k+1):\n",
    "                df_copy2['{}_{}_{}'.format(var, sort_by, i)] = df_copy2.groupby([sort_by])[var].shift(i)\n",
    "                \n",
    "    df_copy2['Year'] = df_copy2['Date'].apply(lambda x: x.year)\n",
    "    df_copy2['Month'] = df_copy2['Date'].apply(lambda x: x.month)\n",
    "    \n",
    "    f = lambda x: tuple(sum([1 if x is r else 0 for x in list(x)])/len(x) for r in ['W', 'D', 'L'])\n",
    "\n",
    "    to_m = df_copy2.groupby(['Team', 'Year']).final_result.apply(f).apply(pd.Series, index=[\"scoret_w\", \"scoret_d\", \"scoret_l\"]).reset_index()\n",
    "\n",
    "    df_3 = pd.merge(right=pd.merge(right=df_copy2, left=to_m, left_on=['Team', 'Year'], right_on=['Team', 'Year']), \n",
    "                    left=to_m, left_on=['Team', 'Year'], right_on=['Opponent', 'Year'])\n",
    "    \n",
    "    data = df_3[['Date', 'Home/Away', 'Team_y', 'Opponent', 'final_result', \n",
    "             \"scoret_w_x\", \"scoret_d_x\", \"scoret_l_x\", \n",
    "             \"scoret_w_y\", \"scoret_d_y\", \"scoret_l_y\"]+list(df_copy2.columns[19:])]\n",
    "\n",
    "    return data"
   ]
  },
  {
   "cell_type": "code",
   "execution_count": 9,
   "metadata": {},
   "outputs": [],
   "source": [
    "data = data_by_team(df)"
   ]
  },
  {
   "cell_type": "code",
   "execution_count": 11,
   "metadata": {},
   "outputs": [
    {
     "data": {
      "text/plain": [
       "163"
      ]
     },
     "execution_count": 11,
     "metadata": {},
     "output_type": "execute_result"
    }
   ],
   "source": [
    "len(data.columns)"
   ]
  },
  {
   "cell_type": "markdown",
   "metadata": {},
   "source": [
    "## Transform"
   ]
  },
  {
   "cell_type": "code",
   "execution_count": 96,
   "metadata": {},
   "outputs": [],
   "source": [
    "def transform_data(data):\n",
    "    data = data.dropna()\n",
    "    # Features + target \n",
    "    X = data.drop(columns='final_result')\n",
    "    y = data.final_result\n",
    "    # transform\n",
    "    X_obj = X.select_dtypes('object').apply(lambda x: x.factorize()[0], axis=0)\n",
    "    X_con = X[['Year', 'Month']+list(X.select_dtypes('float').columns)]\n",
    "    #pca = PCA(n_components=30, random_state=0)\n",
    "    #X_con = pca.fit_transform(X_con)\n",
    "    X = pd.concat([X_obj, X_con], axis=1)\n",
    "    return X, y"
   ]
  },
  {
   "cell_type": "code",
   "execution_count": 97,
   "metadata": {},
   "outputs": [],
   "source": [
    "X, y = transform_data(data)"
   ]
  },
  {
   "cell_type": "markdown",
   "metadata": {},
   "source": [
    "## Training"
   ]
  },
  {
   "cell_type": "code",
   "execution_count": 98,
   "metadata": {},
   "outputs": [],
   "source": [
    "from sklearn.linear_model import LogisticRegression\n",
    "from sklearn.model_selection import train_test_split\n",
    "from sklearn.ensemble import RandomForestClassifier\n",
    "from sklearn.metrics import confusion_matrix\n",
    "from sklearn.metrics import accuracy_score\n",
    "from sklearn.decomposition import PCA\n",
    "from sklearn.preprocessing import StandardScaler\n"
   ]
  },
  {
   "cell_type": "code",
   "execution_count": 99,
   "metadata": {},
   "outputs": [],
   "source": [
    "import itertools as it\n",
    "from sklearn.pipeline import Pipeline\n",
    "from sklearn.model_selection import GridSearchCV\n"
   ]
  },
  {
   "cell_type": "code",
   "execution_count": 100,
   "metadata": {},
   "outputs": [],
   "source": [
    "def train(X, y, model=None, param_grid=None):\n",
    "    X_train, X_test, y_train, y_test = train_test_split(X, y, random_state=0)\n",
    "    pipe = Pipeline([('model', model)])\n",
    "    search = GridSearchCV(pipe, param_grid, iid=True, cv=5, n_jobs=-1)\n",
    "    search.fit(X_train, y_train)\n",
    "    print(\"Best parameter (CV score=%0.3f):\" % search.best_score_)\n",
    "    print(search.best_params_)\n",
    "    return search"
   ]
  },
  {
   "cell_type": "code",
   "execution_count": 101,
   "metadata": {},
   "outputs": [
    {
     "name": "stdout",
     "output_type": "stream",
     "text": [
      "Best parameter (CV score=0.521):\n",
      "{'model__max_depth': 7, 'model__min_samples_leaf': 6, 'model__n_estimators': 80}\n"
     ]
    }
   ],
   "source": [
    "rf = RandomForestClassifier(class_weight='balanced',random_state=1)\n",
    "param_grid = {\n",
    "    'model__n_estimators':[77, 80, ],\n",
    "    'model__max_depth':[5, 7],\n",
    "    'model__min_samples_leaf':[6, 7]\n",
    "}\n",
    "model = train(X, y, model=rf, param_grid=param_grid)"
   ]
  },
  {
   "cell_type": "code",
   "execution_count": 48,
   "metadata": {
    "collapsed": true,
    "jupyter": {
     "outputs_hidden": true
    }
   },
   "outputs": [
    {
     "ename": "NameError",
     "evalue": "name 'y_test' is not defined",
     "output_type": "error",
     "traceback": [
      "\u001b[1;31m---------------------------------------------------------------------------\u001b[0m",
      "\u001b[1;31mNameError\u001b[0m                                 Traceback (most recent call last)",
      "\u001b[1;32m<ipython-input-48-46509d9d8076>\u001b[0m in \u001b[0;36m<module>\u001b[1;34m\u001b[0m\n\u001b[1;32m----> 1\u001b[1;33m \u001b[0mcm\u001b[0m \u001b[1;33m=\u001b[0m \u001b[0mconfusion_matrix\u001b[0m\u001b[1;33m(\u001b[0m\u001b[0my_test\u001b[0m\u001b[1;33m,\u001b[0m \u001b[0mmodel\u001b[0m\u001b[1;33m.\u001b[0m\u001b[0mpredict\u001b[0m\u001b[1;33m(\u001b[0m\u001b[0mX_test\u001b[0m\u001b[1;33m)\u001b[0m\u001b[1;33m)\u001b[0m\u001b[1;33m\u001b[0m\u001b[1;33m\u001b[0m\u001b[0m\n\u001b[0m\u001b[0;32m      2\u001b[0m \u001b[1;33m[\u001b[0m\u001b[0mcm\u001b[0m\u001b[1;33m[\u001b[0m\u001b[0mi\u001b[0m\u001b[1;33m,\u001b[0m\u001b[0mi\u001b[0m\u001b[1;33m]\u001b[0m\u001b[1;33m/\u001b[0m\u001b[0mcm\u001b[0m\u001b[1;33m[\u001b[0m\u001b[1;33m:\u001b[0m\u001b[1;33m,\u001b[0m\u001b[0mi\u001b[0m\u001b[1;33m]\u001b[0m\u001b[1;33m.\u001b[0m\u001b[0msum\u001b[0m\u001b[1;33m(\u001b[0m\u001b[1;33m)\u001b[0m \u001b[1;32mfor\u001b[0m \u001b[0mi\u001b[0m \u001b[1;32min\u001b[0m \u001b[0mrange\u001b[0m\u001b[1;33m(\u001b[0m\u001b[1;36m3\u001b[0m\u001b[1;33m)\u001b[0m\u001b[1;33m]\u001b[0m\u001b[1;33m\u001b[0m\u001b[1;33m\u001b[0m\u001b[0m\n",
      "\u001b[1;31mNameError\u001b[0m: name 'y_test' is not defined"
     ]
    }
   ],
   "source": [
    "cm = confusion_matrix(y_test, model.predict(X_test))\n",
    "[cm[i,i]/cm[:,i].sum() for i in range(3)]"
   ]
  },
  {
   "cell_type": "code",
   "execution_count": 54,
   "metadata": {},
   "outputs": [
    {
     "data": {
      "text/plain": [
       "array([[ 83,  65,  61],\n",
       "       [ 69, 148,  71],\n",
       "       [ 67,  53, 166]], dtype=int64)"
      ]
     },
     "execution_count": 54,
     "metadata": {},
     "output_type": "execute_result"
    }
   ],
   "source": [
    "cm"
   ]
  },
  {
   "cell_type": "code",
   "execution_count": 102,
   "metadata": {},
   "outputs": [],
   "source": [
    "proba = model.predict_proba(X)"
   ]
  },
  {
   "cell_type": "code",
   "execution_count": 103,
   "metadata": {},
   "outputs": [],
   "source": [
    "rslt_df = pd.DataFrame({\n",
    "    'Date': data.Date[X.index],\n",
    "    'Team': data.Team_y[X.index],\n",
    "    'Opponent': data.Opponent[X.index],\n",
    "    'Win':proba[:,2],\n",
    "    'Drawback':proba[:,0],\n",
    "    'Lose':proba[:,1]\n",
    "})"
   ]
  },
  {
   "cell_type": "code",
   "execution_count": 104,
   "metadata": {
    "jupyter": {
     "source_hidden": true
    }
   },
   "outputs": [],
   "source": [
    "# Data\n",
    "def plot_bar_proba(one_rslt_df, team):\n",
    "    r = [i for i in range(one_rslt_df.shape[0])]\n",
    "\n",
    "    # From raw value to percentage\n",
    "    totals = [i+j+k for i,j,k in zip(one_rslt_df['Win'], one_rslt_df['Drawback'], one_rslt_df['Lose'])]\n",
    "    greenBars = [i / j * 100 for i,j in zip(one_rslt_df['Win'], totals)]\n",
    "    orangeBars = [i / j * 100 for i,j in zip(one_rslt_df['Drawback'], totals)]\n",
    "    blueBars = [i / j * 100 for i,j in zip(one_rslt_df['Lose'], totals)]\n",
    "\n",
    "    # plot\n",
    "    barWidth = 0.85\n",
    "    names = tuple(one_rslt_df.iloc[:,3])\n",
    "    # Create green Bars\n",
    "    plt.barh(r, greenBars, color='#b5ffb9', edgecolor='white', height=barWidth)\n",
    "    # Create orange Bars\n",
    "    plt.barh(r, orangeBars, left=greenBars, color='#f9bc86', edgecolor='white', height=barWidth)\n",
    "    # Create blue Bars\n",
    "    plt.barh(r, blueBars, left=[i+j for i,j in zip(greenBars, orangeBars)], color='#a3acff', edgecolor='white', height=barWidth)\n",
    "\n",
    "    # Custom x axis\n",
    "    plt.yticks(r, names)\n",
    "    plt.ylabel(\"group\")\n",
    "    plt.title('Team' + ' = ' + team)\n",
    "    \n",
    "    # Show graphic\n",
    "    plt.show()"
   ]
  },
  {
   "cell_type": "code",
   "execution_count": 22,
   "metadata": {},
   "outputs": [],
   "source": [
    "team = 5\n",
    "r = 0\n",
    "one_rslt_df = rslt_df[rslt_df['Team'] == team].drop(columns='Team').sort_values('Date', ascending=False)\n",
    "one_rslt_df['Date'] = one_rslt_df.Date.astype('str')\n",
    "one_rslt_df['Date and Team'] = one_rslt_df['Date'] + ' - ' + one_rslt_df['Opponent'].apply(lambda x: teams[x])\n",
    "one_rslt_df = one_rslt_df.iloc[:5].drop(columns=['Date', 'Opponent'])"
   ]
  },
  {
   "cell_type": "code",
   "execution_count": 23,
   "metadata": {},
   "outputs": [
    {
     "data": {
      "image/png": "[encoded data removed]",
      "text/plain": [
       "<Figure size 432x288 with 1 Axes>"
      ]
     },
     "metadata": {
      "needs_background": "light"
     },
     "output_type": "display_data"
    }
   ],
   "source": [
    "plot_bar_proba(one_rslt_df, teams[team])"
   ]
  },
  {
   "cell_type": "markdown",
   "metadata": {},
   "source": [
    "## Model interpreation"
   ]
  },
  {
   "cell_type": "markdown",
   "metadata": {},
   "source": [
    "## Prediction new data"
   ]
  },
  {
   "cell_type": "code",
   "execution_count": 105,
   "metadata": {},
   "outputs": [],
   "source": [
    "def paria_prediction(team, opponent, day, month, year, model=None):\n",
    "    # input: Team, Opponent, Date\n",
    "    team = teams.index('Dijon')\n",
    "    Opponent = teams.index('Rennes')\n",
    "    Date = datetime(2019, 11, 23)\n",
    "\n",
    "    match_to_predict = {'Date': Date, 'HomeTeam': team, 'AwayTeam': Opponent, 'FTHG': np.NaN, 'FTAG': np.NaN, \n",
    "     'FTR': np.NaN, 'HTHG': np.NaN, 'HTAG': np.NaN, 'HTR': np.NaN, 'HS': np.NaN, 'AS': np.NaN, \n",
    "     'HST': np.NaN, 'AST': np.NaN, 'HF': np.NaN, 'AF': np.NaN, 'HC': np.NaN, 'AC': np.NaN, \n",
    "     'HY': np.NaN, 'AY': np.NaN, 'HR': np.NaN, 'AR': np.NaN}\n",
    "\n",
    "    row_pred = pd.DataFrame(match_to_predict, index=[0])\n",
    "    pred_data = data_by_team(pd.concat([df, row_pred]))\n",
    "    x = pred_data.sort_values('Date').iloc[-2:]\n",
    "    X2pred, _ = transform_data(x)\n",
    "    prediction = model.predict_proba(X2pred)\n",
    "    # difference lose one vs win other\n",
    "    proba_pari = (prediction[:,0].mean(), # drawback\n",
    "     sum((prediction[0,1], prediction[1,2]))/2, # lose first and win second\n",
    "     sum((prediction[0,2], prediction[1,1]))/2) # win first and lose second\n",
    "    return proba_pari"
   ]
  },
  {
   "cell_type": "code",
   "execution_count": 277,
   "metadata": {},
   "outputs": [],
   "source": [
    "def paria_prediction(day, model=None):\n",
    "    cal = calendar.iloc[np.where(calendar.day == day)[0]]\n",
    "    date = datetime.today()\n",
    "    match_to_predict = {'Date': [date for _ in range(len(cal))], 'HomeTeam': cal.team1, 'AwayTeam': cal.team2, 'FTHG': np.NaN, 'FTAG': np.NaN, \n",
    "         'FTR': np.NaN, 'HTHG': np.NaN, 'HTAG': np.NaN, 'HTR': np.NaN, 'HS': np.NaN, 'AS': np.NaN, \n",
    "         'HST': np.NaN, 'AST': np.NaN, 'HF': np.NaN, 'AF': np.NaN, 'HC': np.NaN, 'AC': np.NaN, \n",
    "         'HY': np.NaN, 'AY': np.NaN, 'HR': np.NaN, 'AR': np.NaN}\n",
    "    row_pred = pd.DataFrame(match_to_predict)\n",
    "    pred_data = data_by_team(pd.concat([df, row_pred]))\n",
    "    x = pred_data.sort_values('Date')[-20:]\n",
    "    X2pred, _ = transform_data(x)\n",
    "    prediction = model.predict_proba(X2pred)\n",
    "    # create dataframe for prediction\n",
    "    df_pred = pd.DataFrame(prediction, columns=['Drawback', 'Lose', 'Win'])\n",
    "    df_pred[['Team', 'Opponent']] = x[['Team_y','Opponent']].reset_index(drop=True).applymap(lambda x: teams[x])\n",
    "    df_pred['Home/Away'] = x['Home/Away'].reset_index(drop=True)\n",
    "    df_pred['index_match'] = df_pred[['Team', 'Opponent']].apply(lambda x: str(sorted(x)), axis=1).factorize()[0]\n",
    "    df_pred['Home'] = df_pred.apply(lambda x: x.Win if x['Home/Away'] is 'H' else x.Lose, axis=1)\n",
    "    df_pred['Away'] = df_pred.apply(lambda x: x.Win if x['Home/Away'] is 'A' else x.Lose, axis=1)\n",
    "    df_pred['HomeTeam'] = df_pred.apply(lambda x: x.Team if x['Home/Away'] is 'H' else x.Opponent, axis=1)\n",
    "    df_pred['AwayTeam'] = df_pred.apply(lambda x: x.Team if x['Home/Away'] is 'A' else x.Opponent, axis=1)\n",
    "    df4predict = df_pred.groupby(['HomeTeam', 'AwayTeam'])[['Home', 'Drawback', 'Away']].mean()\n",
    "    return df4predict"
   ]
  },
  {
   "cell_type": "code",
   "execution_count": 278,
   "metadata": {},
   "outputs": [
    {
     "data": {
      "text/html": [
       "<div>\n",
       "<style scoped>\n",
       "    .dataframe tbody tr th:only-of-type {\n",
       "        vertical-align: middle;\n",
       "    }\n",
       "\n",
       "    .dataframe tbody tr th {\n",
       "        vertical-align: top;\n",
       "    }\n",
       "\n",
       "    .dataframe thead th {\n",
       "        text-align: right;\n",
       "    }\n",
       "</style>\n",
       "<table border=\"1\" class=\"dataframe\">\n",
       "  <thead>\n",
       "    <tr style=\"text-align: right;\">\n",
       "      <th></th>\n",
       "      <th></th>\n",
       "      <th>Home</th>\n",
       "      <th>Drawback</th>\n",
       "      <th>Away</th>\n",
       "    </tr>\n",
       "    <tr>\n",
       "      <th>HomeTeam</th>\n",
       "      <th>AwayTeam</th>\n",
       "      <th></th>\n",
       "      <th></th>\n",
       "      <th></th>\n",
       "    </tr>\n",
       "  </thead>\n",
       "  <tbody>\n",
       "    <tr>\n",
       "      <th>Amiens</th>\n",
       "      <th>Strasbourg</th>\n",
       "      <td>0.291440</td>\n",
       "      <td>0.398902</td>\n",
       "      <td>0.309658</td>\n",
       "    </tr>\n",
       "    <tr>\n",
       "      <th>Angers</th>\n",
       "      <th>Nimes</th>\n",
       "      <td>0.407738</td>\n",
       "      <td>0.351943</td>\n",
       "      <td>0.240319</td>\n",
       "    </tr>\n",
       "    <tr>\n",
       "      <th>Bordeaux</th>\n",
       "      <th>Monaco</th>\n",
       "      <td>0.319368</td>\n",
       "      <td>0.334147</td>\n",
       "      <td>0.346486</td>\n",
       "    </tr>\n",
       "    <tr>\n",
       "      <th>Brest</th>\n",
       "      <th>Nantes</th>\n",
       "      <td>0.393502</td>\n",
       "      <td>0.338712</td>\n",
       "      <td>0.267785</td>\n",
       "    </tr>\n",
       "    <tr>\n",
       "      <th>Dijon</th>\n",
       "      <th>Rennes</th>\n",
       "      <td>0.265604</td>\n",
       "      <td>0.340328</td>\n",
       "      <td>0.394068</td>\n",
       "    </tr>\n",
       "    <tr>\n",
       "      <th>Lyon</th>\n",
       "      <th>Nice</th>\n",
       "      <td>0.427514</td>\n",
       "      <td>0.306696</td>\n",
       "      <td>0.265789</td>\n",
       "    </tr>\n",
       "    <tr>\n",
       "      <th>Metz</th>\n",
       "      <th>Reims</th>\n",
       "      <td>0.283744</td>\n",
       "      <td>0.407366</td>\n",
       "      <td>0.308890</td>\n",
       "    </tr>\n",
       "    <tr>\n",
       "      <th>Paris SG</th>\n",
       "      <th>Lille</th>\n",
       "      <td>0.530266</td>\n",
       "      <td>0.219306</td>\n",
       "      <td>0.250428</td>\n",
       "    </tr>\n",
       "    <tr>\n",
       "      <th>St Etienne</th>\n",
       "      <th>Montpellier</th>\n",
       "      <td>0.394179</td>\n",
       "      <td>0.338067</td>\n",
       "      <td>0.267754</td>\n",
       "    </tr>\n",
       "    <tr>\n",
       "      <th>Toulouse</th>\n",
       "      <th>Marseille</th>\n",
       "      <td>0.290051</td>\n",
       "      <td>0.329873</td>\n",
       "      <td>0.380076</td>\n",
       "    </tr>\n",
       "  </tbody>\n",
       "</table>\n",
       "</div>"
      ],
      "text/plain": [
       "                            Home  Drawback      Away\n",
       "HomeTeam   AwayTeam                                 \n",
       "Amiens     Strasbourg   0.291440  0.398902  0.309658\n",
       "Angers     Nimes        0.407738  0.351943  0.240319\n",
       "Bordeaux   Monaco       0.319368  0.334147  0.346486\n",
       "Brest      Nantes       0.393502  0.338712  0.267785\n",
       "Dijon      Rennes       0.265604  0.340328  0.394068\n",
       "Lyon       Nice         0.427514  0.306696  0.265789\n",
       "Metz       Reims        0.283744  0.407366  0.308890\n",
       "Paris SG   Lille        0.530266  0.219306  0.250428\n",
       "St Etienne Montpellier  0.394179  0.338067  0.267754\n",
       "Toulouse   Marseille    0.290051  0.329873  0.380076"
      ]
     },
     "execution_count": 278,
     "metadata": {},
     "output_type": "execute_result"
    }
   ],
   "source": [
    "paria_prediction(14, model)"
   ]
  },
  {
   "cell_type": "code",
   "execution_count": null,
   "metadata": {},
   "outputs": [],
   "source": []
  },
  {
   "cell_type": "code",
   "execution_count": null,
   "metadata": {},
   "outputs": [],
   "source": []
  },
  {
   "cell_type": "code",
   "execution_count": 460,
   "metadata": {},
   "outputs": [
    {
     "name": "stdout",
     "output_type": "stream",
     "text": [
      "Rennes - Dijon:\n",
      "Home -> 0.3941015071066388\n",
      "Drawback -> 0.33493682997535124\n",
      "Away -> 0.27096166291801005\n",
      "Wall time: 1.83 s\n"
     ]
    }
   ],
   "source": [
    "# input: Team, Opponent, Date\n",
    "team = teams.index('Dijon')\n",
    "Opponent = teams.index('Rennes')\n",
    "Date = datetime(2019, 11, 23)\n",
    "\n",
    "match_to_predict = {'Date': Date, 'HomeTeam': team, 'AwayTeam': Opponent, 'FTHG': np.NaN, 'FTAG': np.NaN, \n",
    " 'FTR': np.NaN, 'HTHG': np.NaN, 'HTAG': np.NaN, 'HTR': np.NaN, 'HS': np.NaN, 'AS': np.NaN, \n",
    " 'HST': np.NaN, 'AST': np.NaN, 'HF': np.NaN, 'AF': np.NaN, 'HC': np.NaN, 'AC': np.NaN, \n",
    " 'HY': np.NaN, 'AY': np.NaN, 'HR': np.NaN, 'AR': np.NaN}\n",
    "\n",
    "row_pred = pd.DataFrame(match_to_predict, index=[0])\n",
    "pred_data = data_by_team(pd.concat([df, row_pred]))\n",
    "x = pred_data.sort_values('Date').iloc[-2:]\n",
    "X2pred, _ = transform_data(x)\n",
    "prediction = search.predict_proba(X2pred)\n",
    "# difference lose one vs win other\n",
    "team_pari = ' - '.join([teams[i] for i in list(x.Team_y)])\n",
    "proba_pari = (prediction[:,0].mean(), # drawback\n",
    " sum((prediction[0,1], prediction[1,2]))/2, # lose first and win second\n",
    " sum((prediction[0,2], prediction[1,1]))/2) # win first and lose second\n",
    "print('{0}:\\nHome -> {3}\\nDrawback -> {1}\\nAway -> {2}'.format(team_pari, *proba_pari))"
   ]
  },
  {
   "cell_type": "code",
   "execution_count": null,
   "metadata": {},
   "outputs": [],
   "source": []
  },
  {
   "cell_type": "markdown",
   "metadata": {},
   "source": [
    "## module paria"
   ]
  },
  {
   "cell_type": "code",
   "execution_count": 9,
   "metadata": {},
   "outputs": [],
   "source": [
    "usecols = ['Date', 'HomeTeam', 'AwayTeam', 'FTHG', 'FTAG', 'FTR', 'HTHG', 'HTAG', 'HTR', 'HS', 'AS', 'HST', 'AST', 'HF', 'AF', 'HC', 'AC', 'HY', 'AY', 'HR', 'AR']\n",
    "urls = ['https://www.football-data.co.uk/mmz4281/{}{}/F1.csv'.format(i,i+1) for i in range(15, 20)]\n",
    "rf = RandomForestClassifier(class_weight='balanced',random_state=1)\n",
    "param_grid = {\n",
    "    'model__n_estimators':[77, 80, ],\n",
    "    'model__max_depth':[5, 7],\n",
    "    'model__min_samples_leaf':[6, 7]\n",
    "}"
   ]
  },
  {
   "cell_type": "code",
   "execution_count": 10,
   "metadata": {},
   "outputs": [],
   "source": [
    "df, teams = load_data_clean(urls, usecols)"
   ]
  },
  {
   "cell_type": "code",
   "execution_count": 63,
   "metadata": {},
   "outputs": [],
   "source": [
    "class Paria():\n",
    "    \n",
    "    def __init__(self,  df, teams, model, param):\n",
    "        self.model, self.param = model, param\n",
    "        self.df, self.teams = df, teams\n",
    "        self.model = self.train(*self.transform_data(self.data_by_team(self.df)), self.model, self.param)\n",
    "\n",
    "    def trfrm_dat(self, df, var):\n",
    "        df[var] = np.where(df['Team'] == df['HomeTeam'],\n",
    "                                         df['H{}'.format(var)],\n",
    "                                         df['A{}'.format(var)])\n",
    "        df['{}_Opp'.format(var)] = np.where(df['Team'] != df['HomeTeam'],\n",
    "                                         df['H{}'.format(var)],\n",
    "                                         df['A{}'.format(var)])\n",
    "        return df \n",
    "\n",
    "    def data_by_team(self, df, k = 5):\n",
    "        # copy dataset to avoid to write on;\n",
    "        df_copy = df.copy(); \n",
    "\n",
    "        # unpivot data\n",
    "        df_copy['H'] = df_copy['HomeTeam']\n",
    "        df_copy['A'] = df_copy['AwayTeam']\n",
    "        cols_to_keep = ['Date', 'HomeTeam', 'AwayTeam', 'FTHG', 'FTAG', 'FTR', 'HTHG', 'HTAG', 'HTR', 'HS', 'AS', 'HST', 'AST', 'HF', 'AF', 'HC', 'AC', 'HY', 'AY', 'HR', 'AR']\n",
    "\n",
    "        team_results = pd.melt(df_copy, id_vars=cols_to_keep, value_vars=['H', 'A'], var_name='Home/Away', value_name='Team')\n",
    "\n",
    "        team_results['Opponent'] = np.where(team_results['Team'] == team_results['HomeTeam'], team_results['AwayTeam'], team_results['HomeTeam'])\n",
    "        team_results['FTG'] = np.where(team_results['Team'] == team_results['HomeTeam'], team_results['FTHG'],team_results['FTAG'])\n",
    "        team_results['FTG_Opp'] = np.where(team_results['Team'] != team_results['HomeTeam'], team_results['FTHG'], team_results['FTAG'])\n",
    "\n",
    "        col = ['S', 'ST', 'F', 'C', 'Y', 'R']\n",
    "        for var in col:    \n",
    "            self.trfrm_dat(team_results, var)\n",
    "\n",
    "        team_results['final_result'] = team_results.apply(lambda x: 'D' if x['FTR'] == 'D' else 'W' if x['Home/Away'] == x['FTR'] else 'L', axis=1)\n",
    "\n",
    "        col_todrop = ['HomeTeam', 'AwayTeam', 'FTHG', 'FTAG', 'FTR', 'HTHG', 'HTAG', 'HTR', 'HS', 'AS', 'HST', 'AST', 'HF', 'AF', 'HC', 'AC', 'HY', 'AY', 'HR', 'AR']\n",
    "        team_results.drop(columns=col_todrop, inplace=True)\n",
    "        df_copy2 = team_results.copy()\n",
    "\n",
    "        # create new variables\n",
    "        col_to_shift = list(df_copy2.columns[4:])\n",
    "        for sort_by in ['Team', 'Opponent']:\n",
    "            df_copy2 = df_copy2.sort_values(by=[sort_by, 'Date'])\n",
    "            for var in col_to_shift:\n",
    "                for i in range(1, k+1):\n",
    "                    df_copy2['{}_{}_{}'.format(var, sort_by, i)] = df_copy2.groupby([sort_by])[var].shift(i)\n",
    "\n",
    "        # month, year\n",
    "        df_copy2['Year'] = df_copy2['Date'].apply(lambda x: x.year)\n",
    "        df_copy2['Month'] = df_copy2['Date'].apply(lambda x: x.month)\n",
    "\n",
    "        # mean target\n",
    "        f = lambda x: tuple(sum([1 if x is r else 0 for x in list(x)])/len(x) for r in ['W', 'D', 'L'])\n",
    "        to_m = df_copy2.groupby(['Team', 'Year']).final_result.apply(f).apply(pd.Series, index=[\"scoret_w\", \"scoret_d\", \"scoret_l\"]).reset_index()\n",
    "        df_3 = pd.merge(right=pd.merge(right=df_copy2, left=to_m, left_on=['Team', 'Year'], right_on=['Team', 'Year']), \n",
    "                        left=to_m, left_on=['Team', 'Year'], right_on=['Opponent', 'Year'])\n",
    "\n",
    "        data = df_3[['Date', 'Home/Away', 'Team_y', 'Opponent', 'final_result', \"scoret_w_x\", \"scoret_d_x\", \"scoret_l_x\", \"scoret_w_y\", \"scoret_d_y\", \"scoret_l_y\"]+list(df_copy2.columns[19:])].dropna()\n",
    "\n",
    "        return data\n",
    "    \n",
    "    def transform_data(self, data):\n",
    "        # Features + target \n",
    "        X = data.drop(columns='final_result')\n",
    "        y = data.final_result\n",
    "        # transform\n",
    "        X_obj = X.select_dtypes('object').apply(lambda x: x.factorize()[0], axis=0)\n",
    "        X_con = X[['Year', 'Month']+list(X.select_dtypes('float').columns)]\n",
    "        #pca = PCA(n_components=30, random_state=0)\n",
    "        #X_con = pca.fit_transform(X_con)\n",
    "        X = pd.concat([X_obj, X_con], axis=1)\n",
    "        return X, y\n",
    "    \n",
    "    def train(self, X, y, model=None, param_grid=None):\n",
    "        X_train, X_test, y_train, y_test = train_test_split(X, y, random_state=0)\n",
    "        pipe = Pipeline([('model', model)])\n",
    "        search = GridSearchCV(pipe, param_grid, iid=True, cv=5, n_jobs=-1)\n",
    "        search.fit(X_train, y_train)\n",
    "        print(\"Best parameter (CV score=%0.3f):\" % search.best_score_)\n",
    "        print(search.best_params_)\n",
    "        return search\n",
    "    \n",
    "    def paria_prediction(self, team, opponent, day, month, year):\n",
    "        # input: Team, Opponent, Date\n",
    "        team = self.teams.index(team)\n",
    "        Opponent = self.teams.index(opponent)\n",
    "        Date = datetime(year, month, day)\n",
    "\n",
    "        match_to_predict = {'Date': Date, 'HomeTeam': team, 'AwayTeam': Opponent, 'FTHG': np.NaN, 'FTAG': np.NaN, \n",
    "         'FTR': np.NaN, 'HTHG': np.NaN, 'HTAG': np.NaN, 'HTR': np.NaN, 'HS': np.NaN, 'AS': np.NaN, \n",
    "         'HST': np.NaN, 'AST': np.NaN, 'HF': np.NaN, 'AF': np.NaN, 'HC': np.NaN, 'AC': np.NaN, \n",
    "         'HY': np.NaN, 'AY': np.NaN, 'HR': np.NaN, 'AR': np.NaN}\n",
    "\n",
    "        row_pred = pd.DataFrame(match_to_predict, index=[0])\n",
    "        pred_data = self.data_by_team(pd.concat([self.df, row_pred]))\n",
    "        x = pred_data.sort_values('Date').iloc[-2:]\n",
    "        X2pred, _ = self.transform_data(x)\n",
    "        prediction = self.model.predict_proba(X2pred)\n",
    "        team_pari = tuple(teams[i] for i in list(x.Team_y))\n",
    "        # difference lose one vs win other\n",
    "        proba_pari = (prediction[:,0].mean(), # drawback\n",
    "         sum((prediction[0,1], prediction[1,2]))/2, # lose first and win second\n",
    "         sum((prediction[0,2], prediction[1,1]))/2) # win first and lose second\n",
    "        print('{0} -> {4}\\nDrawback -> {2}\\n{1} -> {3}'.format(*team_pari, *proba_pari))"
   ]
  },
  {
   "cell_type": "code",
   "execution_count": 64,
   "metadata": {},
   "outputs": [
    {
     "name": "stdout",
     "output_type": "stream",
     "text": [
      "Best parameter (CV score=0.521):\n",
      "{'model__max_depth': 7, 'model__min_samples_leaf': 6, 'model__n_estimators': 80}\n"
     ]
    }
   ],
   "source": [
    "paria = Paria(df, teams, rf, param_grid)"
   ]
  },
  {
   "cell_type": "code",
   "execution_count": 72,
   "metadata": {},
   "outputs": [
    {
     "name": "stdout",
     "output_type": "stream",
     "text": [
      "Paris SG -> 0.4781401023537245\n",
      "Drawback -> 0.23382263085415\n",
      "Lille -> 0.2880372667921257\n"
     ]
    }
   ],
   "source": [
    "paria.paria_prediction('Paris SG', 'Lille', 24, 11, 2019)"
   ]
  },
  {
   "cell_type": "code",
   "execution_count": 1,
   "metadata": {
    "collapsed": true,
    "jupyter": {
     "outputs_hidden": true
    }
   },
   "outputs": [],
   "source": [
    "from utils_data.data_prep import load_data_clean, data_preparation, creation_features, transform_data\n",
    "from utils_data.train import train\n",
    "from sklearn.ensemble import RandomForestClassifier\n",
    "from utils_data.prediction import paria_prediction\n",
    "\n",
    "usecols = ['Date', 'HomeTeam', 'AwayTeam', 'FTHG', 'FTAG', 'FTR', 'HTHG', 'HTAG', 'HTR', 'HS', 'AS', 'HST', 'AST', 'HF', 'AF', 'HC', 'AC', 'HY', 'AY', 'HR', 'AR']\n",
    "urls = ['https://www.football-data.co.uk/mmz4281/{}{}/F1.csv'.format(i,i+1) for i in range(15, 20)]\n",
    "\n",
    "df, teams = load_data_clean(urls, usecols)\n",
    "X, y = transform_data(creation_features(data_preparation(df)))\n",
    "rf = RandomForestClassifier(class_weight='balanced',random_state=1)\n",
    "param_grid = {\n",
    "    'model__n_estimators':[77, 80, ],\n",
    "    'model__max_depth':[5, 7],\n",
    "    'model__min_samples_leaf':[6, 7]\n",
    "}\n",
    "model = train(X, y, model=rf, param_grid=param_grid)\n",
    "\n",
    "# prediction\n",
    "paria_prediction('Toulouse', 'Marseille', 22, 11, 2019, teams, df, model)"
   ]
  },
  {
   "cell_type": "code",
   "execution_count": 6,
   "metadata": {},
   "outputs": [],
   "source": [
    "import pickle"
   ]
  },
  {
   "cell_type": "code",
   "execution_count": 7,
   "metadata": {},
   "outputs": [],
   "source": [
    "pickle.dump(model, open('model/rf.pkl', 'wb'))"
   ]
  },
  {
   "cell_type": "code",
   "execution_count": null,
   "metadata": {},
   "outputs": [],
   "source": []
  }
 ],
 "metadata": {
  "kernelspec": {
   "display_name": "data_science",
   "language": "python",
   "name": "data_science"
  },
  "language_info": {
   "codemirror_mode": {
    "name": "ipython",
    "version": 3
   },
   "file_extension": ".py",
   "mimetype": "text/x-python",
   "name": "python",
   "nbconvert_exporter": "python",
   "pygments_lexer": "ipython3",
   "version": "3.6.9"
  }
 },
 "nbformat": 4,
 "nbformat_minor": 4
}
