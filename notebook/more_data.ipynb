{
 "cells": [
  {
   "cell_type": "code",
   "execution_count": 1,
   "metadata": {},
   "outputs": [],
   "source": [
    "from selenium import webdriver\n",
    "from selenium.webdriver.common.keys import Keys\n",
    "from bs4 import BeautifulSoup\n",
    "import re\n",
    "import pandas as pd\n",
    "import os\n",
    "import time ## give a delay execution\n",
    "import warnings\n",
    "import numpy as np\n",
    "from urllib.request import urlretrieve\n",
    "import base64\n",
    "\n",
    "from PIL import Image\n",
    "from io import BytesIO"
   ]
  },
  {
   "cell_type": "code",
   "execution_count": 17,
   "metadata": {},
   "outputs": [],
   "source": [
    "url = \"https://www.whoscored.com/Regions/74/Tournaments/22/France-Ligue-1\"\n",
    "driver = webdriver.Firefox(executable_path='../geckodriver') # define the webdriver (Firefox, PhantomJS, chrome,...)\n",
    "driver.implicitly_wait(30)  # sticky timeout to wait implicitly wait for an element to be found\n",
    "driver.get(url) # load the webpage\n",
    "tab = driver.find_element_by_id(\"tournament-fixture\")\n",
    "link = tab.find_elements_by_class_name('result')[:4]\n",
    "links = [l.find_element_by_tag_name('a').get_attribute(\"href\") for l in link]\n",
    "driver.quit()"
   ]
  },
  {
   "cell_type": "markdown",
   "metadata": {},
   "source": [
    "## Collect the heatmap of the match"
   ]
  },
  {
   "cell_type": "code",
   "execution_count": 96,
   "metadata": {},
   "outputs": [],
   "source": [
    "url = \"https://www.whoscored.com/Matches/1376617/Live/France-Ligue-1-2019-2020-Bordeaux-Nimes\"\n",
    "driver = webdriver.Firefox(executable_path='../geckodriver') # define the webdriver (Firefox, PhantomJS, chrome,...)\n",
    "driver.implicitly_wait(30)  # sticky timeout to wait implicitly wait for an element to be found\n",
    "driver.get(url) # load the webpage\n",
    "time.sleep(5)\n",
    "try:\n",
    "    driver.find_elements_by_class_name(\"qc-cmp-button\")[1].click()\n",
    "except:\n",
    "    pass\n",
    "ul = driver.find_element_by_id(\"live-match-options\")\n",
    "ul.find_elements_by_tag_name('li')[3].click()\n",
    "heatmap = driver.find_element_by_id(\"heatmap-pitches\")\n",
    "heatmaps = heatmap.find_elements_by_class_name(\"canvas-container\")\n",
    "heatmaps = [h.find_element_by_tag_name('canvas') for h in heatmaps]\n",
    "for i, h in enumerate(heatmaps):\n",
    "    location = h.location\n",
    "    size = h.size\n",
    "    driver.execute_script(\"window.scrollTo(0, {})\".format(location['y'])) \n",
    "    png = driver.get_screenshot_as_png() # saves screenshot of entire page\n",
    "    time.sleep(5)\n",
    "    im = Image.open(BytesIO(png)) # uses PIL library to open image in memory\n",
    "    left, upper, right, lower = (location['x'], 0, location['x'] + size['width'], size['height'])\n",
    "    im = im.crop((left, upper, right, lower)) # defines crop points\n",
    "    im.save('heatmaps/heat_{}.png'.format(i)) # saves new cropped image\n",
    "    \n",
    "driver.quit()"
   ]
  },
  {
   "cell_type": "code",
   "execution_count": null,
   "metadata": {},
   "outputs": [],
   "source": []
  },
  {
   "cell_type": "code",
   "execution_count": null,
   "metadata": {},
   "outputs": [],
   "source": []
  },
  {
   "cell_type": "code",
   "execution_count": null,
   "metadata": {},
   "outputs": [],
   "source": []
  },
  {
   "cell_type": "code",
   "execution_count": 88,
   "metadata": {},
   "outputs": [],
   "source": []
  },
  {
   "cell_type": "code",
   "execution_count": null,
   "metadata": {},
   "outputs": [],
   "source": []
  },
  {
   "cell_type": "code",
   "execution_count": null,
   "metadata": {},
   "outputs": [],
   "source": []
  }
 ],
 "metadata": {
  "kernelspec": {
   "display_name": "Python 3",
   "language": "python",
   "name": "python3"
  },
  "language_info": {
   "codemirror_mode": {
    "name": "ipython",
    "version": 3
   },
   "file_extension": ".py",
   "mimetype": "text/x-python",
   "name": "python",
   "nbconvert_exporter": "python",
   "pygments_lexer": "ipython3",
   "version": "3.7.3"
  }
 },
 "nbformat": 4,
 "nbformat_minor": 4
}
