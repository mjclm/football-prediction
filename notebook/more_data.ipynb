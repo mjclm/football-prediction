{
 "cells": [
  {
   "cell_type": "code",
   "execution_count": 1,
   "metadata": {},
   "outputs": [],
   "source": [
    "from selenium import webdriver\n",
    "from selenium.webdriver.common.keys import Keys\n",
    "from bs4 import BeautifulSoup\n",
    "import re\n",
    "import pandas as pd\n",
    "import os\n",
    "import time ## give a delay execution\n",
    "import warnings\n",
    "import numpy as np\n",
    "from urllib.request import urlretrieve\n",
    "import base64\n",
    "\n",
    "from PIL import Image\n",
    "from io import BytesIO"
   ]
  },
  {
   "cell_type": "code",
   "execution_count": 2,
   "metadata": {},
   "outputs": [],
   "source": [
    "url = \"https://www.whoscored.com/Regions/74/Tournaments/22/France-Ligue-1\"\n",
    "driver = webdriver.Firefox(executable_path='../geckodriver') # define the webdriver (Firefox, PhantomJS, chrome,...)\n",
    "driver.implicitly_wait(30)  # sticky timeout to wait implicitly wait for an element to be found\n",
    "driver.get(url) # load the webpage\n",
    "tab = driver.find_element_by_id(\"tournament-fixture\")\n",
    "link = tab.find_elements_by_class_name('result')[:4] \n",
    "links = [l.find_element_by_tag_name('a').get_attribute(\"href\") for l in link]\n",
    "driver.quit()"
   ]
  },
  {
   "cell_type": "markdown",
   "metadata": {},
   "source": [
    "## Collect the heatmap of the match"
   ]
  },
  {
   "cell_type": "code",
   "execution_count": 2,
   "metadata": {},
   "outputs": [],
   "source": [
    "url = \"https://www.whoscored.com/Matches/1376617/Live/France-Ligue-1-2019-2020-Bordeaux-Nimes\"\n",
    "driver = webdriver.Firefox(executable_path='../geckodriver') # define the webdriver (Firefox, PhantomJS, chrome,...)\n",
    "driver.implicitly_wait(30)  # sticky timeout to wait implicitly wait for an element to be found\n",
    "driver.get(url) # load the webpage\n",
    "time.sleep(5)\n",
    "try:\n",
    "    driver.find_elements_by_class_name(\"qc-cmp-button\")[1].click()\n",
    "except:\n",
    "    pass\n",
    "ul = driver.find_element_by_id(\"live-match-options\")\n",
    "ul.find_elements_by_tag_name('li')[3].click()\n",
    "heatmap = driver.find_element_by_id(\"heatmap-pitches\")\n",
    "heatmaps = heatmap.find_elements_by_class_name(\"canvas-container\")\n",
    "heatmaps = [h.find_element_by_tag_name('canvas') for h in heatmaps]\n",
    "for i, h in enumerate(heatmaps):\n",
    "    location = h.location\n",
    "    size = h.size\n",
    "    driver.execute_script(\"window.scrollTo(0, {})\".format(location['y'])) \n",
    "    png = driver.get_screenshot_as_png() # saves screenshot of entire page\n",
    "    time.sleep(5)\n",
    "    im = Image.open(BytesIO(png)) # uses PIL library to open image in memory\n",
    "    left, upper, right, lower = (location['x'], 0, location['x'] + size['width'], size['height'])\n",
    "    im = im.crop((left, upper, right, lower)) # defines crop points\n",
    "    im.save('heatmaps/heat_{}.png'.format(i)) # saves new cropped image\n",
    "    \n",
    "driver.quit()"
   ]
  },
  {
   "cell_type": "markdown",
   "metadata": {},
   "source": [
    "## Collect the commentary of the match"
   ]
  },
  {
   "cell_type": "code",
   "execution_count": 28,
   "metadata": {},
   "outputs": [],
   "source": [
    "def info_comment(item):    \n",
    "    field = item.get_attribute(\"data-field\")\n",
    "    period = item.get_attribute(\"data-period-id\")\n",
    "    minute = item.get_attribute(\"data-minute\")\n",
    "    second = item.get_attribute(\"data-second\")\n",
    "    add_time = item.get_attribute(\"data-expanded-minute\")\n",
    "    player = item.get_attribute(\"data-player-id\")\n",
    "    team = item.get_attribute(\"data-team-id\")\n",
    "    type_action = item.get_attribute(\"data-type\")\n",
    "    commentary = item.find_element_by_class_name(\"commentary-text\").get_attribute(\"innerText\")\n",
    "    return (field, period, minute, second, add_time, player, team, type_action, commentary)\n"
   ]
  },
  {
   "cell_type": "code",
   "execution_count": 29,
   "metadata": {},
   "outputs": [],
   "source": [
    "url = \"https://www.whoscored.com/Matches/1376617/Live/France-Ligue-1-2019-2020-Bordeaux-Nimes\"\n",
    "driver = webdriver.Firefox(executable_path='../geckodriver') # define the webdriver (Firefox, PhantomJS, chrome,...)\n",
    "driver.implicitly_wait(30)  # sticky timeout to wait implicitly wait for an element to be found\n",
    "driver.get(url) # load the webpage\n",
    "time.sleep(5)\n",
    "try:\n",
    "    driver.find_elements_by_class_name(\"qc-cmp-button\")[1].click()\n",
    "except:\n",
    "    pass\n",
    "\n",
    "ul = driver.find_element_by_id(\"live-match-options\")\n",
    "ul.find_elements_by_tag_name('li')[1].click()\n",
    "\n",
    "coms = []\n",
    "\n",
    "state = ''\n",
    "while state != 'last-page':\n",
    "    items = driver.find_elements_by_class_name(\"commentary-item\")\n",
    "    com = [info_comment(i) for i in items]\n",
    "    coms.append(com)\n",
    "    state = driver.find_element_by_id(\"match-commentary\").get_attribute('data-page-name')\n",
    "    time.sleep(5)\n",
    "    (driver\n",
    "     .find_element_by_class_name(\"page-navigation\")\n",
    "     .find_elements_by_tag_name(\"span\")[2]\n",
    "     .click())\n",
    "    print(state)"
   ]
  },
  {
   "cell_type": "code",
   "execution_count": 41,
   "metadata": {},
   "outputs": [],
   "source": [
    "col = [\"field\", \"period\", \"minute\", \"second\", \"add_time\", \"player\", \"team\", \"type_action\", \"commentary\"]\n",
    "\n",
    "import pandas as pd\n",
    "\n",
    "df = pd.DataFrame({col[i]:data for i, data in enumerate(list(zip(*(c for com in coms for c in com))))})"
   ]
  },
  {
   "cell_type": "markdown",
   "metadata": {},
   "source": [
    "## Collect the commentary of the match"
   ]
  },
  {
   "cell_type": "code",
   "execution_count": 41,
   "metadata": {},
   "outputs": [],
   "source": [
    "url = \"https://www.whoscored.com/Matches/1376850/LiveStatistics/France-Ligue-1-2019-2020-Monaco-Lille\""
   ]
  },
  {
   "cell_type": "code",
   "execution_count": 42,
   "metadata": {},
   "outputs": [],
   "source": [
    "driver = webdriver.Firefox(executable_path='../geckodriver') # define the webdriver (Firefox, PhantomJS, chrome,...)\n",
    "driver.implicitly_wait(30)  # sticky timeout to wait implicitly wait for an element to be found\n",
    "driver.get(url) # load the webpage\n",
    "time.sleep(5)"
   ]
  },
  {
   "cell_type": "code",
   "execution_count": 43,
   "metadata": {},
   "outputs": [],
   "source": [
    "try:\n",
    "    driver.find_elements_by_class_name(\"qc-cmp-button\")[1].click()\n",
    "except:\n",
    "    pass"
   ]
  },
  {
   "cell_type": "code",
   "execution_count": 47,
   "metadata": {},
   "outputs": [],
   "source": [
    "ul = driver.find_element_by_id(\"live-player-home-options\").find_elements_by_tag_name(\"li\")\n",
    "length = len(ul)\n",
    "data_dict = {\"Summary\": [], \"Offensive\": [], \"Defensive\": [], \"Passing\": []}"
   ]
  },
  {
   "cell_type": "code",
   "execution_count": 48,
   "metadata": {},
   "outputs": [],
   "source": [
    "col = [c.text for c in driver.find_element_by_id(\"player-table-statistics-head\").find_elements_by_tag_name('th')]"
   ]
  },
  {
   "cell_type": "code",
   "execution_count": 49,
   "metadata": {},
   "outputs": [
    {
     "ename": "IndexError",
     "evalue": "list index out of range",
     "output_type": "error",
     "traceback": [
      "\u001b[1;31m---------------------------------------------------------------------------\u001b[0m",
      "\u001b[1;31mIndexError\u001b[0m                                Traceback (most recent call last)",
      "\u001b[1;32m<ipython-input-49-ae4b704fb484>\u001b[0m in \u001b[0;36m<module>\u001b[1;34m\u001b[0m\n\u001b[0;32m      9\u001b[0m         \u001b[0mdata\u001b[0m\u001b[1;33m.\u001b[0m\u001b[0mappend\u001b[0m\u001b[1;33m(\u001b[0m\u001b[0mtds\u001b[0m\u001b[1;33m[\u001b[0m\u001b[1;36m1\u001b[0m\u001b[1;33m]\u001b[0m\u001b[1;33m.\u001b[0m\u001b[0mget_attribute\u001b[0m\u001b[1;33m(\u001b[0m\u001b[1;34m'class'\u001b[0m\u001b[1;33m)\u001b[0m\u001b[1;33m)\u001b[0m\u001b[1;33m\u001b[0m\u001b[1;33m\u001b[0m\u001b[0m\n\u001b[0;32m     10\u001b[0m         \u001b[0mdata\u001b[0m\u001b[1;33m.\u001b[0m\u001b[0mappend\u001b[0m\u001b[1;33m(\u001b[0m\u001b[0mtds\u001b[0m\u001b[1;33m[\u001b[0m\u001b[1;36m2\u001b[0m\u001b[1;33m]\u001b[0m\u001b[1;33m.\u001b[0m\u001b[0mfind_element_by_tag_name\u001b[0m\u001b[1;33m(\u001b[0m\u001b[1;34m\"a\"\u001b[0m\u001b[1;33m)\u001b[0m\u001b[1;33m.\u001b[0m\u001b[0mtext\u001b[0m\u001b[1;33m)\u001b[0m\u001b[1;33m\u001b[0m\u001b[1;33m\u001b[0m\u001b[0m\n\u001b[1;32m---> 11\u001b[1;33m         \u001b[0mdata\u001b[0m\u001b[1;33m.\u001b[0m\u001b[0mappend\u001b[0m\u001b[1;33m(\u001b[0m\u001b[0mtds\u001b[0m\u001b[1;33m[\u001b[0m\u001b[1;36m2\u001b[0m\u001b[1;33m]\u001b[0m\u001b[1;33m.\u001b[0m\u001b[0mfind_elements_by_class_name\u001b[0m\u001b[1;33m(\u001b[0m\u001b[1;34m\"player-meta-data\"\u001b[0m\u001b[1;33m)\u001b[0m\u001b[1;33m[\u001b[0m\u001b[1;33m-\u001b[0m\u001b[1;36m2\u001b[0m\u001b[1;33m]\u001b[0m\u001b[1;33m.\u001b[0m\u001b[0mtext\u001b[0m\u001b[1;33m)\u001b[0m\u001b[1;33m\u001b[0m\u001b[1;33m\u001b[0m\u001b[0m\n\u001b[0m\u001b[0;32m     12\u001b[0m         \u001b[0mdata\u001b[0m\u001b[1;33m.\u001b[0m\u001b[0mappend\u001b[0m\u001b[1;33m(\u001b[0m\u001b[0mtds\u001b[0m\u001b[1;33m[\u001b[0m\u001b[1;36m2\u001b[0m\u001b[1;33m]\u001b[0m\u001b[1;33m.\u001b[0m\u001b[0mfind_elements_by_class_name\u001b[0m\u001b[1;33m(\u001b[0m\u001b[1;34m\"player-meta-data\"\u001b[0m\u001b[1;33m)\u001b[0m\u001b[1;33m[\u001b[0m\u001b[1;33m-\u001b[0m\u001b[1;36m1\u001b[0m\u001b[1;33m]\u001b[0m\u001b[1;33m.\u001b[0m\u001b[0mtext\u001b[0m\u001b[1;33m)\u001b[0m\u001b[1;33m\u001b[0m\u001b[1;33m\u001b[0m\u001b[0m\n\u001b[0;32m     13\u001b[0m         \u001b[0mdata\u001b[0m \u001b[1;33m+=\u001b[0m \u001b[1;33m[\u001b[0m\u001b[0mtd\u001b[0m\u001b[1;33m.\u001b[0m\u001b[0mtext\u001b[0m \u001b[1;32mfor\u001b[0m \u001b[0mtd\u001b[0m \u001b[1;32min\u001b[0m \u001b[0mtds\u001b[0m\u001b[1;33m[\u001b[0m\u001b[1;36m3\u001b[0m\u001b[1;33m:\u001b[0m\u001b[1;33m]\u001b[0m\u001b[1;33m]\u001b[0m\u001b[1;33m\u001b[0m\u001b[1;33m\u001b[0m\u001b[0m\n",
      "\u001b[1;31mIndexError\u001b[0m: list index out of range"
     ]
    }
   ],
   "source": [
    "col = list(data_dict)\n",
    "for i, c in enumerate(col):\n",
    "    driver.find_element_by_id(\"live-player-home-options\").find_elements_by_tag_name(\"li\")[i].click()\n",
    "    time.sleep(5)\n",
    "    for tr in driver.find_element_by_tag_name(\"tbody\").find_elements_by_tag_name('tr'):\n",
    "        data = [] \n",
    "        tds = tr.find_elements_by_tag_name('td')\n",
    "        data.append(tds[0].text)\n",
    "        data.append(tds[1].get_attribute('class'))\n",
    "        data.append(tds[2].find_element_by_tag_name(\"a\").text)\n",
    "        data.append(tds[2].find_elements_by_class_name(\"player-meta-data\")[-2].text)\n",
    "        data.append(tds[2].find_elements_by_class_name(\"player-meta-data\")[-1].text)\n",
    "        data += [td.text for td in tds[3:]]\n",
    "        data_dict[c].append(data)"
   ]
  },
  {
   "cell_type": "code",
   "execution_count": null,
   "metadata": {},
   "outputs": [],
   "source": [
    "data_dict['Defensive']"
   ]
  },
  {
   "cell_type": "code",
   "execution_count": null,
   "metadata": {},
   "outputs": [],
   "source": []
  },
  {
   "cell_type": "code",
   "execution_count": null,
   "metadata": {},
   "outputs": [],
   "source": [
    "len(ul)"
   ]
  },
  {
   "cell_type": "code",
   "execution_count": null,
   "metadata": {},
   "outputs": [],
   "source": []
  },
  {
   "cell_type": "code",
   "execution_count": null,
   "metadata": {},
   "outputs": [],
   "source": []
  },
  {
   "cell_type": "code",
   "execution_count": null,
   "metadata": {},
   "outputs": [],
   "source": []
  },
  {
   "cell_type": "code",
   "execution_count": null,
   "metadata": {},
   "outputs": [],
   "source": []
  },
  {
   "cell_type": "code",
   "execution_count": null,
   "metadata": {},
   "outputs": [],
   "source": []
  },
  {
   "cell_type": "code",
   "execution_count": null,
   "metadata": {},
   "outputs": [],
   "source": []
  }
 ],
 "metadata": {
  "kernelspec": {
   "display_name": "Python 3",
   "language": "python",
   "name": "python3"
  },
  "language_info": {
   "codemirror_mode": {
    "name": "ipython",
    "version": 3
   },
   "file_extension": ".py",
   "mimetype": "text/x-python",
   "name": "python",
   "nbconvert_exporter": "python",
   "pygments_lexer": "ipython3",
   "version": "3.7.3"
  }
 },
 "nbformat": 4,
 "nbformat_minor": 4
}
